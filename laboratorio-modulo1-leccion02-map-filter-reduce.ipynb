{
 "cells": [
  {
   "cell_type": "markdown",
   "metadata": {},
   "source": [
    "\n",
    "<div style=\"text-align: center;\">\n",
    "  <img src=\"https://github.com/Hack-io-Data/Imagenes/blob/main/01-LogosHackio/logo_celeste@4x.png?raw=true\" alt=\"esquema\" />\n",
    "</div>\n"
   ]
  },
  {
   "cell_type": "markdown",
   "metadata": {},
   "source": [
    "# Laboratorio de Python: map(), filter() y reduce()"
   ]
  },
  {
   "cell_type": "markdown",
   "metadata": {},
   "source": [
    "## Ejercicio 1. Map ()"
   ]
  },
  {
   "cell_type": "markdown",
   "metadata": {},
   "source": [
    "1.1. Dada una lista de números, obtén una nueva lista con el doble de cada valor. "
   ]
  },
  {
   "cell_type": "code",
   "execution_count": 4,
   "metadata": {},
   "outputs": [
    {
     "name": "stdout",
     "output_type": "stream",
     "text": [
      "La lista inicial es:     [1, 13, 16, 5, 14, 17, 8, 3, 9, 6]\n",
      "El doble de cada uno es: [2, 26, 32, 10, 28, 34, 16, 6, 18, 12]\n"
     ]
    }
   ],
   "source": [
    "import random\n",
    "res = random.sample(range(1, 20), 10) #Numeros aleatorios del 1 al 49 (porque no cuenta el último que pongas), generar 7 aleatorios\n",
    "\n",
    "def doble(num):\n",
    "    \"\"\"Doblar el número\n",
    "\n",
    "    Args:\n",
    "        num (int): Recibe un int y lo multiplica por dos, easy\n",
    "    \"\"\"\n",
    "    double = num * 2\n",
    "    return double\n",
    "\n",
    "result = list(map(doble,res))\n",
    "print(f\"La lista inicial es:     {res}\")\n",
    "print(f\"El doble de cada uno es: {result}\")\n"
   ]
  },
  {
   "cell_type": "markdown",
   "metadata": {},
   "source": [
    "1.2. Genera una función que al recibir una frase devuelva una lista con la longitud de cada palabra"
   ]
  },
  {
   "cell_type": "code",
   "execution_count": 15,
   "metadata": {},
   "outputs": [
    {
     "name": "stdout",
     "output_type": "stream",
     "text": [
      "{'La': 2, 'vida': 4, 'es': 2, 'como': 4, 'una': 3, 'lenteja,': 8, 'o': 1, 'lo': 2, 'tomas': 5, 'dejas': 5}\n"
     ]
    }
   ],
   "source": [
    "cosas = {}\n",
    "def longitud_palabra(frase):\n",
    "    \"\"\"Medir longitud palabra\n",
    "\n",
    "    Args:\n",
    "        frase (str): Metemos una lista de strings, si es una frase, acompañarla de .split() ejemplo: frase.split()\n",
    "\n",
    "    Returns:\n",
    "        dict: Devuelve un update para el diccionario\n",
    "    \"\"\"\n",
    "    longitud = len(frase)\n",
    "    actualizar = cosas.update({frase : longitud})\n",
    "    return actualizar\n",
    "\n",
    "frase = \"La vida es como una lenteja, o lo tomas o lo dejas\"\n",
    "list(map(longitud_palabra,frase.split())) #con el .split lo enviamos en tipo lista, que (es lo que espera), el list si es necesario!\n",
    "print(cosas) #Imprimimos el diccionario"
   ]
  },
  {
   "cell_type": "markdown",
   "metadata": {},
   "source": [
    "1.3. Genera una función que convierta una lista de tuplas a una lista de strings"
   ]
  },
  {
   "cell_type": "code",
   "execution_count": 6,
   "metadata": {},
   "outputs": [
    {
     "name": "stdout",
     "output_type": "stream",
     "text": [
      "['hola', 'papa,', 'como', 'estas']\n"
     ]
    }
   ],
   "source": []
  },
  {
   "cell_type": "markdown",
   "metadata": {},
   "source": [
    "\n",
    "\n",
    "1.4. Genera una función que calcule la diferencia entre los valores de dos listas.\n",
    "\n",
    "1.5. Genera una función la cual, para un conjunto de caracteres, devuelva una lista de tuplas con cada letra en mayúsculas y minúsculas. Las letras no pueden estar repetidas "
   ]
  },
  {
   "cell_type": "markdown",
   "metadata": {},
   "source": [
    "## Ejercicio 2. Filter ()"
   ]
  },
  {
   "cell_type": "markdown",
   "metadata": {},
   "source": [
    "2.1. Crea una función que retorne las palabras de una lista de palabras que comience con una letra en especifico.\n",
    "\n",
    "2.2. Para una lista con elementos tipo integer y string obtén una nueva lista sólo con los valores int.\n",
    "\n",
    "2.3. Escribe una función que tome una cadena de texto y un número entero n como parámetros y devuelva una lista de todas las palabras que sean más largas que n. \n",
    "\n",
    "2.4. Escribe una función que tome una lista de nombres de mascotas como parámetro y devuelva una nueva lista excluyendo ciertas mascotas prohibidas en España. La lista de mascotas a excluir es [\"Mapache\", \"Tigre\", \"Serpiente Pitón\", \"Cocodrilo\", \"Oso\"].\n",
    "\n",
    "\n",
    "2.5. Escribe un programa en Python que cree una lista de diccionarios que contenga información de estudiantes (nombre, edad, calificación) y use la función filter para extraer a los estudiantes con una calificación mayor o igual a 90."
   ]
  },
  {
   "cell_type": "code",
   "execution_count": null,
   "metadata": {},
   "outputs": [],
   "source": []
  },
  {
   "cell_type": "code",
   "execution_count": null,
   "metadata": {},
   "outputs": [],
   "source": []
  },
  {
   "cell_type": "markdown",
   "metadata": {},
   "source": [
    "## Ejercicio 3. Reduce ()"
   ]
  },
  {
   "cell_type": "markdown",
   "metadata": {},
   "source": [
    "3.1 Crea una función que tome una lista de dígitos y devuelva el número correspondiente. Por ejemplo, [5,7,2] corresponde al número quinientos setenta y dos (572).\n",
    "\n",
    "3.2. Dada una lista numérica, obtén el producto total de los valores de dicha lista\n",
    "\n",
    "3.3. Concatena una lista de palabras\n",
    "\n",
    "3.4. Calcula la diferencia total en los valores de una lista."
   ]
  },
  {
   "cell_type": "code",
   "execution_count": null,
   "metadata": {},
   "outputs": [],
   "source": []
  },
  {
   "cell_type": "code",
   "execution_count": null,
   "metadata": {},
   "outputs": [],
   "source": []
  },
  {
   "cell_type": "markdown",
   "metadata": {},
   "source": [
    "## Ejercicio 4. Ejercicios combinando las funciones"
   ]
  },
  {
   "cell_type": "markdown",
   "metadata": {},
   "source": [
    "4.1. Dada una lista de números, filtra los números positivos y calcula su promedio.\n",
    "\n",
    "4.2. Dada una lista de palabras, filtra las palabras que empiezan con una vocal, conviértelas a mayúsculas, y luego concaténalas en una sola cadena. Finalmente, obtén la longitud de la cadena resultante.\n",
    "\n",
    "4.3. Dada una lista numérica, filtra los números impares y calcula el producto de todos ellos \n",
    "\n",
    "4.4. Dada una lista de palabras, filtra las que contienen la letra 'a' y cuenta cuántas hay"
   ]
  },
  {
   "cell_type": "code",
   "execution_count": null,
   "metadata": {},
   "outputs": [],
   "source": []
  },
  {
   "cell_type": "code",
   "execution_count": null,
   "metadata": {},
   "outputs": [],
   "source": []
  }
 ],
 "metadata": {
  "kernelspec": {
   "display_name": "base",
   "language": "python",
   "name": "python3"
  },
  "language_info": {
   "codemirror_mode": {
    "name": "ipython",
    "version": 3
   },
   "file_extension": ".py",
   "mimetype": "text/x-python",
   "name": "python",
   "nbconvert_exporter": "python",
   "pygments_lexer": "ipython3",
   "version": "3.11.9"
  }
 },
 "nbformat": 4,
 "nbformat_minor": 2
}
