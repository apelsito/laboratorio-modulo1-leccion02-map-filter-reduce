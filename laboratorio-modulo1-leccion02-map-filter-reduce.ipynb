{
 "cells": [
  {
   "cell_type": "markdown",
   "metadata": {},
   "source": [
    "\n",
    "<div style=\"text-align: center;\">\n",
    "  <img src=\"https://github.com/Hack-io-Data/Imagenes/blob/main/01-LogosHackio/logo_celeste@4x.png?raw=true\" alt=\"esquema\" />\n",
    "</div>\n"
   ]
  },
  {
   "cell_type": "markdown",
   "metadata": {},
   "source": [
    "# Laboratorio de Python: map(), filter() y reduce()"
   ]
  },
  {
   "cell_type": "markdown",
   "metadata": {},
   "source": [
    "## Ejercicio 1. map ()"
   ]
  },
  {
   "cell_type": "markdown",
   "metadata": {},
   "source": [
    "1.1. Dada una lista de números, obtén una nueva lista con el doble de cada valor."
   ]
  },
  {
   "cell_type": "code",
   "execution_count": null,
   "metadata": {},
   "outputs": [],
   "source": [
    "import random\n",
    "res = random.sample(range(1, 20), 10) #Numeros aleatorios del 1 al 49 (porque no cuenta el último que pongas), generar 7 aleatorios\n",
    "\n",
    "def doble(num):\n",
    "    \"\"\"Doblar el número\n",
    "\n",
    "    Args:\n",
    "        num (int): Recibe un int y lo multiplica por dos, easy\n",
    "    \"\"\"\n",
    "    double = num * 2\n",
    "    return double\n",
    "\n",
    "result = list(map(doble,res))\n",
    "print(f\"La lista inicial es:     {res}\")\n",
    "print(f\"El doble de cada uno es: {result}\")\n"
   ]
  },
  {
   "cell_type": "markdown",
   "metadata": {},
   "source": [
    "\n",
    "1.2. Genera una función que al recibir una frase devuelva una lista con la longitud de cada palabra. Nota: también se puede solucionar con una `lambda`. "
   ]
  },
  {
   "cell_type": "code",
   "execution_count": null,
   "metadata": {},
   "outputs": [],
   "source": [
    "cosas = {}\n",
    "def longitud_palabra(frase):\n",
    "    \"\"\"Medir longitud palabra\n",
    "\n",
    "    Args:\n",
    "        frase (str): Metemos una lista de strings, si es una frase, acompañarla de .split() ejemplo: frase.split()\n",
    "\n",
    "    Returns:\n",
    "        dict: Devuelve un update para el diccionario\n",
    "    \"\"\"\n",
    "    longitud = len(frase)\n",
    "    actualizar = cosas.update({frase : longitud})\n",
    "    return actualizar\n",
    "\n",
    "frase = \"La vida es como una lenteja, o lo tomas o lo dejas\"\n",
    "list(map(longitud_palabra,frase.split())) #con el .split lo enviamos en tipo lista, que (es lo que espera), el list si es necesario!\n",
    "print(cosas) #Imprimimos el diccionario"
   ]
  },
  {
   "cell_type": "markdown",
   "metadata": {},
   "source": [
    "\n",
    "1.3. Genera una función que convierta una lista de tuplas a una lista de strings, por ejemplo: \n",
    "\n",
    "```python\n",
    "lista_de_tuplas = [(\"Juan\", \"Pérez\"),(\"María\", \"García\"),(\"Luis\", \"Martínez\"),(\"Ana\", \"López\"),(\"Carlos\", \"Sánchez\"),(\"Elena\", \"Fernández\"),(\"Miguel\", \"González\")]\n",
    "\n",
    "\n",
    "# output esperado\n",
    "['Juan Pérez',\n",
    "'María García',\n",
    "'Luis Martínez',\n",
    "'Ana López',\n",
    "'Carlos Sánchez',\n",
    "'Elena Fernández',\n",
    "'Miguel González']\n",
    "```"
   ]
  },
  {
   "cell_type": "code",
   "execution_count": 55,
   "metadata": {},
   "outputs": [
    {
     "data": {
      "text/plain": [
       "[' hola que tal', ' yo bien y tu']"
      ]
     },
     "execution_count": 55,
     "metadata": {},
     "output_type": "execute_result"
    }
   ],
   "source": [
    "lista = []\n",
    "def tupla_to_lista(tupla):\n",
    "    \"\"\"tupla to lista\n",
    "\n",
    "    Args:\n",
    "        tupla (_tuple_): _Recibe una lista de tuplas_\n",
    "\n",
    "    Returns:\n",
    "        _list_: _Devuelve Lista de Strings_\n",
    "    \"\"\"\n",
    "    l = len(tupla)\n",
    "    n = 0\n",
    "    texto = \"\"\n",
    "    while n < l:\n",
    "        texto = texto + \" \" + tupla[n]\n",
    "        n += 1\n",
    "    return texto\n",
    "\n",
    "boro = [(\"hola\",\"que\",\"tal\"),(\"yo\",\"bien\",\"y\",\"tu\")]\n",
    "list(map(tupla_to_lista,boro))\n"
   ]
  },
  {
   "cell_type": "markdown",
   "metadata": {},
   "source": [
    "1.4. Crea una función que calcule la diferencia entre los valores correspondientes de dos listas. Debrás restar los elementos de las dos listas, devolviendo una nueva lista con las diferencias. Por ejemplo: \n",
    "\n",
    "```python\n",
    "# input\n",
    "numeros = [4, 8, 15, 16, 23, 42]\n",
    "numeros_2 = [5, 12, 37, 8, 23, 45]\n",
    "\n",
    "# output\n",
    "[1, 4, 22, -8, 0, 3]\n",
    "```"
   ]
  },
  {
   "cell_type": "code",
   "execution_count": null,
   "metadata": {},
   "outputs": [],
   "source": [
    "def diferencia(t1,t2): #La diferencia es la resta! \n",
    "    \"\"\"Diferencia (RESTA)\n",
    "\n",
    "    Args:\n",
    "        t1 (int): _Elemento lista 1_\n",
    "        t2 (int): _Elemento lista 2_\n",
    "\n",
    "    Returns:\n",
    "        _type_: _description_\n",
    "    \"\"\"\n",
    "    resta = t1 - t2\n",
    "    return resta\n",
    "l1 = [10,20,5,12,124]\n",
    "l2 = [5,30,1,16,123]\n",
    "list(map(diferencia,l1,l2))"
   ]
  },
  {
   "cell_type": "markdown",
   "metadata": {},
   "source": [
    "\n",
    "\n",
    "1.5. Genera una función la cual, para un conjunto de caracteres, devuelva una lista de tuplas con cada letra en mayúsculas y minúsculas. Importante, no puede haber dos tuplas que contengan las mismas letras. Ejemplo:\n",
    "\n",
    "```python\n",
    "conjunto_caracteres = {'a', 'b', 'E', 'f', 'a', 'i', 'o', 'U', 'a'}\n",
    "\n",
    "# output\n",
    "{('A', 'a'),\n",
    " ('B', 'b'),\n",
    " ('E', 'e'),\n",
    " ('F', 'f'),\n",
    " ('I', 'i'),\n",
    " ('O', 'o'),\n",
    " ('U', 'u')}\n",
    "```"
   ]
  },
  {
   "cell_type": "code",
   "execution_count": null,
   "metadata": {},
   "outputs": [],
   "source": [
    "def tuplatime(letra):\n",
    "    \"\"\"tupla time\n",
    "\n",
    "    Args:\n",
    "        letra (str): _Entraa una letra _\n",
    "\n",
    "    Returns:\n",
    "        _tuple_: _Sale una tupla con la letra en mayus y minus_\n",
    "    \"\"\"\n",
    "\n",
    "    lista = []\n",
    "    mayus = lista.append(letra.lower())\n",
    "    minus = lista.append(letra.upper())\n",
    "    tupla = tuple(lista)\n",
    "    return tupla\n",
    "texto = \"abcdefghijklmnopqrstuvwxyz\"\n",
    "list(map(tuplatime,texto))"
   ]
  },
  {
   "cell_type": "markdown",
   "metadata": {},
   "source": [
    "## Ejercicio 2. Filter ()"
   ]
  },
  {
   "cell_type": "markdown",
   "metadata": {},
   "source": [
    "2.1. Crea una función que devuelva las palabras de una lista que comienzan con una letra específica. Por ejemplo:\n",
    "\n",
    "```python\n",
    "# input\n",
    "frase = 'Incluso la persona más pequeña puede cambiar el curso del futuro.'\n",
    "letra = 'p'\n",
    "\n",
    "# output\n",
    "['persona', 'pequeña', 'puede']\n",
    "```\n"
   ]
  },
  {
   "cell_type": "code",
   "execution_count": null,
   "metadata": {},
   "outputs": [],
   "source": [
    "def empiezapor(letra):\n",
    "    letra = letra.lower()\n",
    "    check = letra.startswith(\"p\")\n",
    "    if check == True:\n",
    "        return True\n",
    "    else: \n",
    "        return False\n",
    "    \n",
    "holi = [\"Paco\",\"Alvaro\",\"Montse\",\"Jose Luis\",\"Patricia\",\"Palíndromo\",\"Pedro\",\"Abeja\"]\n",
    "list(filter(empiezapor,holi))"
   ]
  },
  {
   "cell_type": "markdown",
   "metadata": {},
   "source": [
    "\n",
    "2.2. Para una lista con elementos tipo *integer* y *string*, obtén una nueva lista sólo con los valores de tipo *integer*.\n"
   ]
  },
  {
   "cell_type": "code",
   "execution_count": null,
   "metadata": {},
   "outputs": [],
   "source": [
    "def quetiposos(boludo):\n",
    "    tipo = type(boludo)\n",
    "    if tipo == int:\n",
    "        return True\n",
    "    else:\n",
    "        return False\n",
    "\n",
    "cosis = [\"Hola\",2,3,\"3\",\"150\",\"trevor\",12,15,45]\n",
    "list(filter(quetiposos,cosis))"
   ]
  },
  {
   "cell_type": "markdown",
   "metadata": {},
   "source": [
    "2.3 (Beta) Antiguo, Como soy un poco lento, hice el ejercicio extra jaja"
   ]
  },
  {
   "cell_type": "code",
   "execution_count": null,
   "metadata": {},
   "outputs": [],
   "source": [
    "def largos_pero_no_de_piscina(bambi,n):\n",
    "    longitud = len(bambi)\n",
    "    if longitud > n:\n",
    "        return True\n",
    "    else:\n",
    "        return False\n",
    "    \n",
    "texto = \"Hola que tal mi genteeee\"\n",
    "n = 3\n",
    "list(filter(lambda test:largos_pero_no_de_piscina(test,5),texto.split()))\n",
    "#Lambda llama a la funcion y le envia lo que necesita, mientras que filter proporciona a lambda el valor de test\n",
    "#De forma que si texto ="
   ]
  },
  {
   "cell_type": "markdown",
   "metadata": {},
   "source": [
    "2.3. Escribe una función que tome una lista de nombres de mascotas como parámetro y devuelva una nueva lista excluyendo ciertas mascotas prohibidas en España. La lista de mascotas a excluir es [\"Mapache\", \"Tigre\", \"Serpiente Pitón\", \"Cocodrilo\", \"Oso\"].\n",
    "\n",
    "```python\n",
    "#input\n",
    "mascotas = ['Perro', 'Tigre', 'Gato', 'Oso', 'Erizo']\n",
    "\n",
    "# output\n",
    "['Perro', 'Gato', 'Erizo']\n",
    "```\n"
   ]
  },
  {
   "cell_type": "code",
   "execution_count": 2,
   "metadata": {},
   "outputs": [
    {
     "data": {
      "text/plain": [
       "['Perro', 'Gato', 'Erizo']"
      ]
     },
     "execution_count": 2,
     "metadata": {},
     "output_type": "execute_result"
    }
   ],
   "source": [
    "def spain_is_different(mascota):\n",
    "    \"\"\"Verificar si la mascota ta prohibida es españa\n",
    "\n",
    "    Args:\n",
    "        mascota (_string_): _Entra un string_\n",
    "\n",
    "    Returns:\n",
    "        _bool_: _Si no es de los prohibidos Truem si no False_\n",
    "    \"\"\"\n",
    "    if mascota == \"Mapache\" or mascota == \"Tigre\" or mascota == \"Serpiente Pitón\" or mascota == \"Cocodrilo\" or mascota == \"Oso\":\n",
    "        return False\n",
    "    else:\n",
    "        return True\n",
    "\n",
    "mascotas = ['Perro', 'Tigre', 'Gato', 'Oso', 'Erizo']\n",
    "list(filter(spain_is_different,mascotas))"
   ]
  },
  {
   "cell_type": "markdown",
   "metadata": {},
   "source": [
    "2.4. Escribe un programa en Python que cree una lista de diccionarios que contenga información de estudiantes (nombre, edad, calificación) y use la función filter para extraer a los estudiantes con una calificación mayor o igual a 90."
   ]
  },
  {
   "cell_type": "code",
   "execution_count": 5,
   "metadata": {},
   "outputs": [
    {
     "data": {
      "text/plain": [
       "[{'nombre': 'Juan', 'edad': 17, 'calificacion': 100},\n",
       " {'nombre': 'Gonzalo', 'edad': 19, 'calificacion': 92},\n",
       " {'nombre': 'Jaime', 'edad': 25, 'calificacion': 90}]"
      ]
     },
     "execution_count": 5,
     "metadata": {},
     "output_type": "execute_result"
    }
   ],
   "source": [
    "def excepcionales(alumno):\n",
    "    nota = alumno[\"calificacion\"]\n",
    "    if 90 <= nota <= 100:\n",
    "        return True\n",
    "    else:\n",
    "        return False\n",
    "\n",
    "alumnos = [\n",
    "    {\"nombre\":\"Juan\",\"edad\":17,\"calificacion\": 100},\n",
    "    {\"nombre\":\"Gonzalo\",\"edad\":19,\"calificacion\": 92},\n",
    "    {\"nombre\":\"Jaime\",\"edad\":25,\"calificacion\": 90},\n",
    "    {\"nombre\":\"Alberto\",\"edad\":34,\"calificacion\": 10},\n",
    "    {\"nombre\":\"Jeancha\",\"edad\":32,\"calificacion\": 20},\n",
    "    {\"nombre\":\"Ana\",\"edad\":23,\"calificacion\": 89},\n",
    "    {\"nombre\":\"Helena\",\"edad\":32,\"calificacion\": 189}\n",
    "    ]\n",
    "\n",
    "list(filter(excepcionales,alumnos))"
   ]
  },
  {
   "cell_type": "markdown",
   "metadata": {},
   "source": [
    "## Ejercicio 3. Reduce ()"
   ]
  },
  {
   "cell_type": "markdown",
   "metadata": {},
   "source": [
    "3.1 Crea una función que tome una lista de dígitos y devuelva el número correspondiente. Por ejemplo, [5,7,2] corresponde al número quinientos setenta y dos (572).\n",
    "\n"
   ]
  },
  {
   "cell_type": "code",
   "execution_count": 8,
   "metadata": {},
   "outputs": [
    {
     "data": {
      "text/plain": [
       "123"
      ]
     },
     "execution_count": 8,
     "metadata": {},
     "output_type": "execute_result"
    }
   ],
   "source": [
    "from functools import reduce\n",
    "def numerito(n1,n2):\n",
    "    numero1 = str(n1)\n",
    "    numero2 = str(n2)\n",
    "    return int(numero1 + numero2)\n",
    "\n",
    "numeros = [1,2,3]\n",
    "reduce(numerito,numeros)"
   ]
  },
  {
   "cell_type": "markdown",
   "metadata": {},
   "source": [
    "\n",
    "3.2. Dada una lista de números enteros, obtén el producto total de los valores de dicha lista\n",
    "\n"
   ]
  },
  {
   "cell_type": "code",
   "execution_count": 9,
   "metadata": {},
   "outputs": [
    {
     "data": {
      "text/plain": [
       "1209600"
      ]
     },
     "execution_count": 9,
     "metadata": {},
     "output_type": "execute_result"
    }
   ],
   "source": [
    "numeros = [1,2,4,5,6,7,8,9,10]\n",
    "\n",
    "def producto(n1,n2):\n",
    "    return n1*n2\n",
    "reduce(producto,numeros)"
   ]
  },
  {
   "cell_type": "markdown",
   "metadata": {},
   "source": [
    "3.3. Concatena una lista de palabras. Por ejemplo:\n",
    "\n",
    "```python\n",
    "# input\n",
    "lista_int_str = ['Un', 'mago', 'nunca']\n",
    "\n",
    "# output\n",
    "'Unmagonunca'\n",
    "```\n"
   ]
  },
  {
   "cell_type": "code",
   "execution_count": 10,
   "metadata": {},
   "outputs": [
    {
     "data": {
      "text/plain": [
       "'Unmagonunca'"
      ]
     },
     "execution_count": 10,
     "metadata": {},
     "output_type": "execute_result"
    }
   ],
   "source": [
    "lista_int_str = ['Un', 'mago', 'nunca']\n",
    "\n",
    "def union(a1,a2):\n",
    "    return a1 + a2\n",
    "\n",
    "reduce(union,lista_int_str)"
   ]
  },
  {
   "cell_type": "markdown",
   "metadata": {},
   "source": [
    "\n",
    "3.4. Calcula la diferencia total en los valores de una lista, es decir, crea un programa que vaya restando todos sus elementos."
   ]
  },
  {
   "cell_type": "code",
   "execution_count": 11,
   "metadata": {},
   "outputs": [
    {
     "data": {
      "text/plain": [
       "69"
      ]
     },
     "execution_count": 11,
     "metadata": {},
     "output_type": "execute_result"
    }
   ],
   "source": [
    "valores = [90,9,7,5,2,-2]\n",
    "\n",
    "def restamos(r1,r2):\n",
    "    return r1 - r2\n",
    "\n",
    "reduce(restamos,valores)"
   ]
  },
  {
   "cell_type": "markdown",
   "metadata": {},
   "source": [
    "## Ejercicio 4. Ejercicios combinando las funciones"
   ]
  },
  {
   "cell_type": "markdown",
   "metadata": {},
   "source": [
    "4.1. Dada una lista de números, filtra los números positivos y calcula su promedio.\n"
   ]
  },
  {
   "cell_type": "code",
   "execution_count": 12,
   "metadata": {},
   "outputs": [
    {
     "data": {
      "text/plain": [
       "[90, 9, 7, 5, 2]"
      ]
     },
     "execution_count": 12,
     "metadata": {},
     "output_type": "execute_result"
    }
   ],
   "source": [
    "valores = [90,9,7,5,2,-2]\n",
    "def be_positive(num):\n",
    "    if num < 0:\n",
    "        return False\n",
    "    else:\n",
    "        return True\n",
    "    \n",
    "def promedio\n",
    "\n",
    "list(filter(be_positive,valores))"
   ]
  },
  {
   "cell_type": "markdown",
   "metadata": {},
   "source": [
    "\n",
    "4.2. Dada una lista de palabras, filtra las palabras que empiezan con una vocal, conviértelas a mayúsculas, y luego concaténalas en una sola cadena. \n"
   ]
  },
  {
   "cell_type": "code",
   "execution_count": null,
   "metadata": {},
   "outputs": [],
   "source": []
  },
  {
   "cell_type": "markdown",
   "metadata": {},
   "source": [
    "\n",
    "4.3. Dada una lista numérica, filtra los números impares y calcula el producto de todos ellos \n"
   ]
  },
  {
   "cell_type": "code",
   "execution_count": null,
   "metadata": {},
   "outputs": [],
   "source": []
  },
  {
   "cell_type": "markdown",
   "metadata": {},
   "source": [
    "4.4. Dada una lista de palabras, filtra las que contienen la letra 'a' y cuenta cuántas hay.\n"
   ]
  },
  {
   "cell_type": "code",
   "execution_count": null,
   "metadata": {},
   "outputs": [],
   "source": []
  }
 ],
 "metadata": {
  "kernelspec": {
   "display_name": "base",
   "language": "python",
   "name": "python3"
  },
  "language_info": {
   "codemirror_mode": {
    "name": "ipython",
    "version": 3
   },
   "file_extension": ".py",
   "mimetype": "text/x-python",
   "name": "python",
   "nbconvert_exporter": "python",
   "pygments_lexer": "ipython3",
   "version": "3.11.9"
  }
 },
 "nbformat": 4,
 "nbformat_minor": 2
}
