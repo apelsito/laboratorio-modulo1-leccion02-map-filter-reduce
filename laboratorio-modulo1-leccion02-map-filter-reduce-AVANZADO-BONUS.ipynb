{
 "cells": [
  {
   "cell_type": "markdown",
   "metadata": {},
   "source": [
    "\n",
    "<div style=\"text-align: center;\">\n",
    "  <img src=\"https://github.com/Hack-io-Data/Imagenes/blob/main/01-LogosHackio/logo_celeste@4x.png?raw=true\" alt=\"esquema\" />\n",
    "</div>\n"
   ]
  },
  {
   "cell_type": "markdown",
   "metadata": {
    "vscode": {
     "languageId": "plaintext"
    }
   },
   "source": [
    "#### Ejercicio 1. Transformar y agregar listas de diccionarios:\n",
    "Dada una lista de diccionarios que representan productos con nombre, precio y cantidad, usa `map` para calcular el costo total de cada producto (precio * cantidad). Luego, usa `reduce` para sumar los costos totales y obtener el gasto total.\n",
    "\n",
    "```python\n",
    "productos = [\n",
    "    {'nombre': 'camisa', 'precio': 50, 'cantidad': 3},\n",
    "    {'nombre': 'pantalon', 'precio': 100, 'cantidad': 2},\n",
    "    {'nombre': 'zapatos', 'precio': 150, 'cantidad': 1}\n",
    "]\n",
    "# Resultado esperado: 450 + 200 + 150 = 800\n",
    "```"
   ]
  },
  {
   "cell_type": "code",
   "execution_count": 3,
   "metadata": {},
   "outputs": [
    {
     "name": "stdout",
     "output_type": "stream",
     "text": [
      "[150, 200, 150]\n"
     ]
    },
    {
     "data": {
      "text/plain": [
       "500"
      ]
     },
     "execution_count": 3,
     "metadata": {},
     "output_type": "execute_result"
    }
   ],
   "source": [
    "from functools import reduce\n",
    "productos = [\n",
    "    {'nombre': 'camisa', 'precio': 50, 'cantidad': 3},\n",
    "    {'nombre': 'pantalon', 'precio': 100, 'cantidad': 2},\n",
    "    {'nombre': 'zapatos', 'precio': 150, 'cantidad': 1}\n",
    "]\n",
    "\n",
    "def coste_total(cuqui): \n",
    "    precio = cuqui[\"precio\"]\n",
    "    cuanto = cuqui[\"cantidad\"]\n",
    "    return precio * cuanto\n",
    "\n",
    "def total(koke, maxi):\n",
    "    return koke + maxi\n",
    "\n",
    "\n",
    "\n",
    "papi = list(map(coste_total,productos))\n",
    "print(papi)\n",
    "reduce(total,papi)\n",
    "\n"
   ]
  },
  {
   "cell_type": "markdown",
   "metadata": {},
   "source": [
    "#### Ejercicio 2. Combinar `map` y `filter` para detectar números perfectos:\n",
    "\n",
    "Un número es perfecto si la suma de sus divisores propios es igual a sí mismo. Dada una lista de números, usa `filter` para seleccionar los números perfectos, y usa `map` para devolver una lista con el mensaje `\"<número> es perfecto\"`.\n",
    "```python\n",
    "numeros = [6, 28, 496, 8128, 33550336, 7, 12]\n",
    "# Resultado esperado: ['6 es perfecto', '28 es perfecto', '496 es perfecto', '8128 es perfecto']\n",
    "```\n"
   ]
  },
  {
   "cell_type": "code",
   "execution_count": 15,
   "metadata": {},
   "outputs": [
    {
     "name": "stdout",
     "output_type": "stream",
     "text": [
      "[6, 28, 496, 8128, 33550336]\n",
      "['6 es perfecto', '28 es perfecto', '496 es perfecto', '8128 es perfecto', '33550336 es perfecto']\n"
     ]
    }
   ],
   "source": [
    "numeros = [6, 28, 496, 8128, 33550336, 7, 12]\n",
    "def perfectos(numerito):\n",
    "    \n",
    "    divisores= []\n",
    "    for i in range(1,numerito):\n",
    "        if numerito % i == 0:\n",
    "            divisores.append(i)\n",
    "        else:\n",
    "            continue\n",
    "    \n",
    "    suma = reduce(lambda x,y:x+y,divisores)\n",
    "    return suma == numerito\n",
    "    \n",
    "def mensaje(msg):\n",
    "    return str(msg) + \" es perfecto\"\n",
    "\n",
    "a = list(filter(perfectos,numeros))\n",
    "print(a)\n",
    "b = list(map(mensaje,a))\n",
    "print(b)\n",
    "\n"
   ]
  },
  {
   "cell_type": "markdown",
   "metadata": {},
   "source": [
    "\n",
    "#### Ejercicio 3. Procesar una lista de fechas:\n",
    "\n",
    "Dada una lista de fechas en formato `YYYY-MM-DD`, usa `map` para convertirlas a una tupla `(año, mes, día)`. Luego, usa `filter` para seleccionar solo las fechas que caen en meses pares.\n",
    "```python\n",
    "fechas = ['2024-03-15', '2023-02-10', '2025-06-21', '2022-12-25']\n",
    "# Resultado esperado: [(2023, 2, 10), (2025, 6, 21), (2022, 12, 25)]\n",
    "```"
   ]
  },
  {
   "cell_type": "code",
   "execution_count": 25,
   "metadata": {},
   "outputs": [
    {
     "name": "stdout",
     "output_type": "stream",
     "text": [
      "[('2024', '03', '15'), ('2023', '02', '10'), ('2025', '06', '21'), ('2022', '12', '25')]\n",
      "[('2023', '02', '10'), ('2025', '06', '21'), ('2022', '12', '25')]\n"
     ]
    }
   ],
   "source": [
    "fechas = ['2024-03-15', '2023-02-10', '2025-06-21', '2022-12-25']\n",
    "def separar(fecha):\n",
    "    sepa = fecha.split(\"-\")\n",
    "    devuelvo = (sepa[0],sepa[1],sepa[2])\n",
    "    return devuelvo\n",
    "\n",
    "def mespar(mes):\n",
    "    month = mes[1]\n",
    "    month = int(month)\n",
    "    \n",
    "    if month % 2 == 0:\n",
    "        return True\n",
    "    else:\n",
    "        return False\n",
    "\n",
    "tuplita = list(map(separar,fechas))\n",
    "print(tuplita)\n",
    "amador = list(filter(mespar,tuplita))\n",
    "print(amador)\n",
    "   "
   ]
  },
  {
   "cell_type": "markdown",
   "metadata": {},
   "source": [
    "\n",
    "\n",
    "#### Ejercicio 4. Suma condicional de listas anidadas:\n",
    "\n",
    "   Dada una lista de listas de números, usa `map` y `filter` para seleccionar las sublistas donde todos los elementos sean pares. Luego, usa `reduce` para sumar todos los números de esas sublistas seleccionadas.\n",
    "   ```python\n",
    "   numeros = [[2, 4, 6], [1, 3, 5], [8, 10], [7, 9], [12, 14]]\n",
    "   # Resultado esperado: 2 + 4 + 6 + 8 + 10 + 12 + 14 = 56\n",
    "   ```"
   ]
  },
  {
   "cell_type": "code",
   "execution_count": 6,
   "metadata": {},
   "outputs": [
    {
     "name": "stdout",
     "output_type": "stream",
     "text": [
      "[2, 4, 6, 8, 10, 12, 14]\n",
      "56\n"
     ]
    }
   ],
   "source": [
    "from functools import reduce\n",
    "numeros = [[2, 4, 6], [1, 3, 5], [8, 10], [7, 9], [12, 14]]\n",
    "def sonpar(cosinchis):\n",
    "    longitud = len(cosinchis)\n",
    "    i = 0\n",
    "    check = 0\n",
    "    while i < longitud:\n",
    "        if cosinchis[i] % 2 == 0:\n",
    "         check += 1\n",
    "         i += 1\n",
    "        else:\n",
    "         check += 0\n",
    "         i += 1\n",
    "\n",
    "    if check != longitud:\n",
    "        return False\n",
    "    else:\n",
    "        return True\n",
    "\n",
    "def sumar(x,y):\n",
    "   return x + y\n",
    "           \n",
    "mario = reduce(sumar,list(filter(sonpar,numeros)))\n",
    "print(mario)\n",
    "total = reduce(sumar,mario)\n",
    "print(total)\n",
    "\n"
   ]
  },
  {
   "cell_type": "markdown",
   "metadata": {},
   "source": [
    "#### Ejercicio 5. Filtrar y agrupar datos de empleados:\n",
    "   Dada una lista de diccionarios que representan empleados con nombre, salario y departamento, usa `filter` para seleccionar los empleados cuyo salario sea mayor a 4000 y luego usa `map` para agrupar los nombres de empleados por departamento.\n",
    "   ```python\n",
    "   empleados = [\n",
    "       {'nombre': 'Ana', 'salario': 4500, 'departamento': 'TI'},\n",
    "       {'nombre': 'Luis', 'salario': 3500, 'departamento': 'Marketing'},\n",
    "       {'nombre': 'Pedro', 'salario': 5000, 'departamento': 'TI'},\n",
    "       {'nombre': 'Marta', 'salario': 4200, 'departamento': 'Ventas'}\n",
    "   ]\n",
    "   # Resultado esperado: {'TI': ['Ana', 'Pedro'], 'Ventas': ['Marta']}\n",
    "   ```"
   ]
  },
  {
   "cell_type": "code",
   "execution_count": 31,
   "metadata": {},
   "outputs": [
    {
     "name": "stdout",
     "output_type": "stream",
     "text": [
      "{'TI': ['Ana', 'Pedro'], 'Ventas': 'Marta'}\n"
     ]
    }
   ],
   "source": [
    "empleados = [\n",
    "       {'nombre': 'Ana', 'salario': 4500, 'departamento': 'TI'},\n",
    "       {'nombre': 'Luis', 'salario': 3500, 'departamento': 'Marketing'},\n",
    "       {'nombre': 'Pedro', 'salario': 5000, 'departamento': 'TI'},\n",
    "       {'nombre': 'Marta', 'salario': 4200, 'departamento': 'Ventas'}\n",
    "   ]\n",
    "\n",
    "psicotropicos = {}\n",
    "\n",
    "def sueldo_soñado(sueldo):\n",
    "    return sueldo[\"salario\"] > 4000\n",
    "\n",
    "def dondetoy(dept):\n",
    "    lugar = dept[\"departamento\"]\n",
    "    if lugar == \"TI\":\n",
    "        if lugar in psicotropicos:\n",
    "            lista = [psicotropicos[lugar],dept[\"nombre\"]]\n",
    "            psicotropicos.update({lugar:lista})\n",
    "        else:\n",
    "            psicotropicos.update({lugar:dept[\"nombre\"]})\n",
    "        \n",
    "    elif lugar == \"Marketing\":\n",
    "        if lugar in psicotropicos:\n",
    "            lista = [psicotropicos[lugar],dept[\"nombre\"]]\n",
    "            psicotropicos.update({lugar:lista})\n",
    "        else:\n",
    "            psicotropicos.update({lugar:dept[\"nombre\"]})\n",
    "    else:\n",
    "        if lugar in psicotropicos:\n",
    "            lista = [psicotropicos[lugar],dept[\"nombre\"]]\n",
    "            psicotropicos.update({lugar:lista})\n",
    "        else:\n",
    "            psicotropicos.update({lugar:dept[\"nombre\"]})\n",
    "    return\n",
    "\n",
    "jorge = list(filter(sueldo_soñado,empleados))\n",
    "tour = list(map(dondetoy,jorge))\n",
    "print(psicotropicos)\n",
    "\n"
   ]
  },
  {
   "cell_type": "markdown",
   "metadata": {},
   "source": [
    "#### Ejercicio 6. Eliminar duplicados sin usar `set`:\n",
    "\n",
    "   Dada una lista de números, usa `filter` y `map` para eliminar duplicados manteniendo el orden de aparición, sin usar estructuras como `set`.\n",
    "   ```python\n",
    "   numeros = [1, 2, 2, 3, 4, 4, 5]\n",
    "   # Resultado esperado: [1, 2, 3, 4, 5]\n",
    "   ```\n"
   ]
  },
  {
   "cell_type": "code",
   "execution_count": null,
   "metadata": {},
   "outputs": [],
   "source": []
  },
  {
   "cell_type": "markdown",
   "metadata": {
    "vscode": {
     "languageId": "plaintext"
    }
   },
   "source": [
    "#### Ejercicio 7. Calculadora de operaciones matemáticas sobre una lista:\n",
    "\n",
    "   Dada una lista de números y una lista de operaciones (representadas como cadenas, como 'sum', 'mul', 'div'), usa `map` para aplicar cada operación secuencialmente a los números. Por ejemplo, si la operación es 'sum', suma los elementos; si es 'mul', multiplícalos.\n",
    "   ```python\n",
    "   numeros = [2, 3, 4]\n",
    "   operaciones = ['sum', 'mul', 'div']\n",
    "   # Resltado esperado: (Suma: 9, Multiplicación: 24, División: Resultado de dividir 2 entre 3 entre 4)\n",
    "   ```"
   ]
  },
  {
   "cell_type": "code",
   "execution_count": null,
   "metadata": {},
   "outputs": [],
   "source": []
  },
  {
   "cell_type": "markdown",
   "metadata": {},
   "source": [
    "#### Ejercicio 8. Filtros encadenados y transformación de datos:\n",
    "\n",
    "Dada una lista de diccionarios que representan productos con nombre, categoría y precio, usa `filter` para seleccionar los productos de una categoría específica. Luego, usa `map` para aplicar un descuento del 20% a los precios y transformar el diccionario en una nueva lista de tuplas `(nombre, nuevo_precio)`.\n",
    "\n",
    "```python\n",
    "productos = [\n",
    "    {'nombre': 'camisa', 'categoria': 'ropa', 'precio': 50},\n",
    "    {'nombre': 'pantalon', 'categoria': 'ropa', 'precio': 100},\n",
    "    {'nombre': 'libro', 'categoria': 'literatura', 'precio': 25}\n",
    "]\n",
    "# Resultado esperado: [('camisa', 40.0), ('pantalon', 80.0)]\n",
    "```"
   ]
  },
  {
   "cell_type": "code",
   "execution_count": null,
   "metadata": {},
   "outputs": [],
   "source": []
  },
  {
   "cell_type": "markdown",
   "metadata": {},
   "source": [
    "\n",
    "#### Ejercicio 9. Combinación de listas con condiciones:\n",
    "\n",
    "   Dadas dos listas de números de igual longitud, usa `map` para generar una nueva lista de tuplas que combine los elementos de ambas listas. Si el elemento de la primera lista es mayor que el de la segunda, crea la tupla con `(elemento_lista1, None)`; si no, crea la tupla con `(None, elemento_lista2)`.\n",
    "   ```python\n",
    "   lista1 = [10, 5, 8]\n",
    "   lista2 = [3, 7, 8]\n",
    "   # Resultado esperado: [(10, None), (None, 7), (None, 8)]\n",
    "   ```"
   ]
  },
  {
   "cell_type": "code",
   "execution_count": null,
   "metadata": {},
   "outputs": [],
   "source": []
  },
  {
   "cell_type": "markdown",
   "metadata": {},
   "source": [
    "#### 10. Filtrar y mapear diccionarios con reglas complejas:\n",
    "\n",
    "Dada una lista de diccionarios que representan ventas, filtra las ventas cuyo importe sea mayor a 500 y cuyo cliente esté marcado como 'premium'. Luego usa `map` para transformar cada venta en una cadena que diga `\"<cliente> realizó una compra de <importe>\"`.\n",
    "\n",
    "```python\n",
    "ventas = [\n",
    "    {'cliente': 'Carlos', 'importe': 600, 'premium': True},\n",
    "    {'cliente': 'Ana', 'importe': 450, 'premium': False},\n",
    "    {'cliente': 'Luis', 'importe': 800, 'premium': True},\n",
    "    {'cliente': 'Marta', 'importe': 300, 'premium': True}\n",
    "]\n",
    "# Resultado esperado: ['Carlos realizó una compra de 600', 'Luis realizó una compra de 800']\n",
    "```"
   ]
  },
  {
   "cell_type": "code",
   "execution_count": null,
   "metadata": {},
   "outputs": [],
   "source": []
  },
  {
   "cell_type": "markdown",
   "metadata": {
    "vscode": {
     "languageId": "plaintext"
    }
   },
   "source": [
    "#### 11. Agrupación y fusión de intervalos superpuestos\n",
    "\n",
    "Dada una lista de intervalos en forma de tuplas (por ejemplo, `(inicio, fin)`), usa `reduce` para fusionar los intervalos que se superponen o tocan entre sí, y devolver una lista de intervalos fusionados.\n",
    "\n",
    "```python\n",
    "intervalos = [(1, 3), (2, 5), (6, 9), (8, 10)]\n",
    "\n",
    "# Resultado esperado: `[(1, 5), (6, 10)]`\n",
    "```"
   ]
  },
  {
   "cell_type": "code",
   "execution_count": null,
   "metadata": {},
   "outputs": [],
   "source": []
  },
  {
   "cell_type": "markdown",
   "metadata": {},
   "source": [
    "#### 12. Cálculo de la matriz de adyacencia acumulada\n",
    "\n",
    "Dada una lista de conexiones entre nodos de un grafo representados como pares `(nodo1, nodo2)`, usa `reduce` para generar una matriz de adyacencia acumulada que represente todas las conexiones en el grafo.\n",
    "\n",
    "```python\n",
    "conexiones = [(0, 1), (1, 2), (0, 2), (2, 3)]\n",
    "nodos = 4  # Número de nodos en el grafo\n",
    "```\n",
    "Usa `reduce` para generar una matriz `n x n` que indique las conexiones directas entre los nodos.\n"
   ]
  },
  {
   "cell_type": "code",
   "execution_count": null,
   "metadata": {},
   "outputs": [],
   "source": []
  },
  {
   "cell_type": "markdown",
   "metadata": {
    "vscode": {
     "languageId": "plaintext"
    }
   },
   "source": [
    "#### 13. Cálculo del promedio ponderado sobre una secuencia de datos\n",
    "\n",
    "Dada una lista de tuplas donde el primer elemento es el valor y el segundo es el peso de ese valor, usa `reduce` para calcular el promedio ponderado de los valores.\n",
    "\n",
    "```python\n",
    "datos = [(70, 1.5), (80, 2.0), (90, 3.0)]\n",
    "\n",
    "# Resultado esperado: el promedio ponderado de los valores basado en los pesos. 82.31.\n",
    "```\n",
    "\n"
   ]
  },
  {
   "cell_type": "code",
   "execution_count": null,
   "metadata": {},
   "outputs": [],
   "source": []
  }
 ],
 "metadata": {
  "kernelspec": {
   "display_name": "Python 3",
   "language": "python",
   "name": "python3"
  },
  "language_info": {
   "codemirror_mode": {
    "name": "ipython",
    "version": 3
   },
   "file_extension": ".py",
   "mimetype": "text/x-python",
   "name": "python",
   "nbconvert_exporter": "python",
   "pygments_lexer": "ipython3",
   "version": "3.11.9"
  }
 },
 "nbformat": 4,
 "nbformat_minor": 2
}
